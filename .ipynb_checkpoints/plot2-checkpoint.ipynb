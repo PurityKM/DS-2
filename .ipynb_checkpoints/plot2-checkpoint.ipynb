{
 "cells": [
  {
   "cell_type": "code",
   "execution_count": 2,
   "id": "b2073500",
   "metadata": {},
   "outputs": [],
   "source": [
    "import matplotlib.pyplot as plt\n",
    "import pandas as pd\n",
    "import numpy as np"
   ]
  },
  {
   "cell_type": "code",
   "execution_count": 6,
   "id": "38cdcc51",
   "metadata": {},
   "outputs": [
    {
     "name": "stdout",
     "output_type": "stream",
     "text": [
      "                    Id District Name           Neighborhood Name  \\\n",
      "0      2017S008429           Unknown                     Unknown   \n",
      "1      2017S007316           Unknown                     Unknown   \n",
      "2      2017S010210           Unknown                     Unknown   \n",
      "3      2017S006364           Unknown                     Unknown   \n",
      "4      2017S004615        Sant Martí  el Camp de l'Arpa del Clot   \n",
      "...                ...           ...                         ...   \n",
      "10334  2017S003667       Sant Andreu               el Bon Pastor   \n",
      "10335  2017S001896       Sant Andreu               el Bon Pastor   \n",
      "10336  2017S010718       Sant Andreu               el Bon Pastor   \n",
      "10337  2017S006145       Sant Andreu               el Bon Pastor   \n",
      "10338  2017S000178       Sant Andreu               el Bon Pastor   \n",
      "\n",
      "                                                  Street    Weekday  \\\n",
      "0      Número 27                                     ...     Friday   \n",
      "1      Número 3 Zona Franca / Número 50 Zona Franca  ...     Friday   \n",
      "2      Litoral (Besòs)                               ...     Friday   \n",
      "3      Número 3 Zona Franca                          ...     Friday   \n",
      "4      Las Navas de Tolosa                           ...   Thursday   \n",
      "...                                                  ...        ...   \n",
      "10334  Litoral (Llobregat)                           ...    Tuesday   \n",
      "10335  PL MONTERREY                                  ...  Wednesday   \n",
      "10336  Litoral (Llobregat)                           ...   Thursday   \n",
      "10337  Litoral (Besòs)                               ...     Friday   \n",
      "10338  CIUTAT D'ASUNCIÓN                             ...     Sunday   \n",
      "\n",
      "           Month  Day  Hour Part of the day  Mild injuries  Serious injuries  \\\n",
      "0        October   13     8         Morning              2                 0   \n",
      "1      September    1    13         Morning              2                 0   \n",
      "2       December    8    21       Afternoon              5                 0   \n",
      "3           July   21     2           Night              1                 0   \n",
      "4            May   25    14       Afternoon              1                 0   \n",
      "...          ...  ...   ...             ...            ...               ...   \n",
      "10334      April   25     8         Morning              1                 0   \n",
      "10335      March    8    12         Morning              1                 0   \n",
      "10336   December   28     8         Morning              1                 0   \n",
      "10337       July   14    14       Afternoon              1                 0   \n",
      "10338    January    8    20       Afternoon              0                 0   \n",
      "\n",
      "       Victims  Vehicles involved  Longitude   Latitude  \n",
      "0            2                  2   2.125624  41.340045  \n",
      "1            2                  2   2.120452  41.339426  \n",
      "2            5                  2   2.167356  41.360886  \n",
      "3            1                  2   2.124529  41.337668  \n",
      "4            1                  3   2.185272  41.416365  \n",
      "...        ...                ...        ...        ...  \n",
      "10334        1                  3   2.201800  41.392004  \n",
      "10335        1                  2   2.206013  41.443445  \n",
      "10336        1                  2   2.205607  41.443894  \n",
      "10337        1                  2   2.205118  41.444824  \n",
      "10338        0                  1   2.200956  41.437125  \n",
      "\n",
      "[10339 rows x 15 columns]\n"
     ]
    }
   ],
   "source": [
    "data = pd.read_csv('accidents_2017.csv')\n",
    "print(data)"
   ]
  },
  {
   "cell_type": "code",
   "execution_count": 14,
   "id": "1e69bf9f",
   "metadata": {},
   "outputs": [
    {
     "data": {
      "image/png": "[encoded data removed]",
      "text/plain": [
       "<Figure size 432x288 with 1 Axes>"
      ]
     },
     "metadata": {
      "needs_background": "light"
     },
     "output_type": "display_data"
    }
   ],
   "source": [
    "plt.plot(data.Day, data.Hour / 4)\n",
    "plt.show()"
   ]
  },
  {
   "cell_type": "code",
   "execution_count": null,
   "id": "affcaf43",
   "metadata": {},
   "outputs": [],
   "source": [
    "plt.bar"
   ]
  }
 ],
 "metadata": {
  "kernelspec": {
   "display_name": "Python 3 (ipykernel)",
   "language": "python",
   "name": "python3"
  },
  "language_info": {
   "codemirror_mode": {
    "name": "ipython",
    "version": 3
   },
   "file_extension": ".py",
   "mimetype": "text/x-python",
   "name": "python",
   "nbconvert_exporter": "python",
   "pygments_lexer": "ipython3",
   "version": "3.9.12"
  }
 },
 "nbformat": 4,
 "nbformat_minor": 5
}
